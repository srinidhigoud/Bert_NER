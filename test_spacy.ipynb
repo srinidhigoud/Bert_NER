{
 "cells": [
  {
   "cell_type": "code",
   "execution_count": 27,
   "metadata": {},
   "outputs": [],
   "source": [
    "from sklearn.metrics import f1_score\n",
    "import pickle\n",
    "import spacy\n",
    "from spacy.gold import GoldParse\n",
    "from spacy.scorer import Scorer\n",
    "from pathlib import Path"
   ]
  },
  {
   "cell_type": "code",
   "execution_count": 5,
   "metadata": {},
   "outputs": [],
   "source": [
    "with open ('Data/training_data_spacy_custom', 'rb') as fp:\n",
    "    test_data = pickle.load(fp)"
   ]
  },
  {
   "cell_type": "code",
   "execution_count": 52,
   "metadata": {},
   "outputs": [
    {
     "name": "stdout",
     "output_type": "stream",
     "text": [
      "GPE Srinidhi\n",
      "TIME 3 PM\n"
     ]
    }
   ],
   "source": [
    "model_dir = Path('Data/')\n",
    "nlp = spacy.load(\"en\") #load NER model\n",
    "test_text = \"my name is John\" # text to test accuracy\n",
    "doc_to_test = nlp(test_text) # transform the text to spacy doc format\n",
    "nlp2 = spacy.load('en')\n",
    "doc2 = nlp2(test_text)\n",
    "for ent in doc2.ents:\n",
    "    print(ent.label_, ent.text)"
   ]
  },
  {
   "cell_type": "code",
   "execution_count": 17,
   "metadata": {},
   "outputs": [],
   "source": [
    "test = []\n",
    "for it in test_data:\n",
    "    test.append((it[0],it[1]['entities']))\n"
   ]
  },
  {
   "cell_type": "code",
   "execution_count": 19,
   "metadata": {},
   "outputs": [],
   "source": [
    "def evaluate(ner_model, examples):\n",
    "    scorer = Scorer()\n",
    "    for input_, annot in examples:\n",
    "        doc_gold_text = ner_model.make_doc(input_)\n",
    "        gold = GoldParse(doc_gold_text, entities=annot)\n",
    "        pred_value = ner_model(input_)\n",
    "        scorer.score(pred_value, gold)\n",
    "    return scorer.scores"
   ]
  },
  {
   "cell_type": "code",
   "execution_count": 28,
   "metadata": {},
   "outputs": [],
   "source": [
    "ner_model = spacy.load('Data/') # for spaCy's pretrained use 'en_core_web_sm'\n",
    "results = evaluate(ner_model, test)"
   ]
  },
  {
   "cell_type": "code",
   "execution_count": 29,
   "metadata": {},
   "outputs": [
    {
     "data": {
      "text/plain": [
       "{'uas': 0.0,\n",
       " 'las': 0.0,\n",
       " 'ents_p': 98.89458924805983,\n",
       " 'ents_r': 99.69866316020162,\n",
       " 'ents_f': 99.2949984175661,\n",
       " 'ents_per_type': {'aci_object': {'p': 62.318417402730134,\n",
       "   'r': 85.37,\n",
       "   'f': 72.04523397611715},\n",
       "  'oper': {'p': 73.35127860026918, 'r': 98.1, 'f': 83.93941986822966},\n",
       "  'modf': {'p': 8.329130024781245,\n",
       "   'r': 75.96000000000001,\n",
       "   'f': 15.012154390402971},\n",
       "  'health': {'p': 25.825421839566438,\n",
       "   'r': 90.17581532680177,\n",
       "   'f': 40.15178678140313}},\n",
       " 'tags_acc': 0.0,\n",
       " 'token_acc': 100.0}"
      ]
     },
     "execution_count": 29,
     "metadata": {},
     "output_type": "execute_result"
    }
   ],
   "source": [
    "results"
   ]
  }
 ],
 "metadata": {
  "kernelspec": {
   "display_name": "Python 3",
   "language": "python",
   "name": "python3"
  },
  "language_info": {
   "codemirror_mode": {
    "name": "ipython",
    "version": 3
   },
   "file_extension": ".py",
   "mimetype": "text/x-python",
   "name": "python",
   "nbconvert_exporter": "python",
   "pygments_lexer": "ipython3",
   "version": "3.6.5"
  }
 },
 "nbformat": 4,
 "nbformat_minor": 2
}
